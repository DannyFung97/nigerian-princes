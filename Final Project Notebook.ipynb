{
 "cells": [
  {
   "cell_type": "markdown",
   "metadata": {},
   "source": [
    "## Intrusive Phone Calls"
   ]
  },
  {
   "cell_type": "markdown",
   "metadata": {},
   "source": [
    "### Overview\n",
    "In a world with modern technology, scammers have a variety of tools with which they can trick individuals who don't know any better into giving up their money or personal information. Phone calls is one medium in particular that scammers use often. Scammers can be anywhere around the world calling people's home phones or personal phones at any time of the day and will use whatever tactics they can to turn a profit. Thus, everyone should be aware of these scammers and have an idea of how they can best protect themselves.\n",
    "\n",
    "Using data on the number of Do Not Call complaints (organized by state) made to the FTC over the past 5 years, we look to see if there is an optimal time to warn people about instrusive phone calls."
   ]
  },
  {
   "cell_type": "markdown",
   "metadata": {},
   "source": [
    "### Names\n",
    "* Felix Chu ()\n",
    "* Danny Fung ()\n",
    "* Peter Huang (A92067166)\n",
    "* Dan Tran (A13684358)\n",
    "* Leon Wu (A11988491) - **Overview, Background & Prior Work, Ethics & Privacy**"
   ]
  },
  {
   "cell_type": "markdown",
   "metadata": {},
   "source": [
    "### Research Question\n",
    "When should people be more aware of scam calls, depending on the time of the year and where they live, in order for them to not get scammed?\n",
    "\n",
    "At what time of the year would it be most effective to inform people about the dangers of scam calls?"
   ]
  },
  {
   "cell_type": "markdown",
   "metadata": {},
   "source": [
    "### Background & Prior Work\n",
    "#### Background\n",
    "* Scam callers can spoof their caller ID to make it look like they are from your area.\n",
    "* Scam callers can target victims based on certain demographics such as race.\n",
    "* Scam callers sometimes do not take people off their call lists when requested.\n",
    "\n",
    "#### Prior Work\n",
    "We found two projects similar to ours: **The Large-Scale Analysis of Technical Support Scams** and **The Correlates of Susceptibility to Scams in Older Adults Without Dementia**.\n",
    "\n",
    "**The Large-Scale Analysis of Technical Support Scams** study learned that scammers abuse specific browser APIs to make it hard for users to navigate away from a technical support scam page, identified the social engineering techniques used, the remote administration tools abused, and the amount of money that scammers are charging. Technical support scammers were also based in call centers in English-speaking countries with low wages.\n",
    "\n",
    "**The Correlates of Susceptibility to Scams in Older Adults Without Dementia** study found that the oldest old, persons with lower levels of cognitive function, lower psychological well being, and poorer health and financial literacy appeared to be the most susceptible to scams, independent of the level of education and income. There was no difference in susceptibility between males and females. This study identifies a number of factors that may put older adults at high risk of falling prey to scams, and suggests at least two modifiable factors—health and financial literacy and well-being—as potential targets for interventions to prevent victimization of older persons. The most robust psychosocial correlate of susceptibility to scams was psychological well-being. This indicates that positive functioning and outlook on one's life is associated with being less susceptible to being taken advantage of by a scammer.\n",
    "\n",
    "#### References\n",
    "1. https://arxiv.org/pdf/1607.06891.pdf\n",
    "2. https://www.ncbi.nlm.nih.gov/pmc/articles/PMC3916958/pdf/nihms509695.pdf"
   ]
  },
  {
   "cell_type": "markdown",
   "metadata": {},
   "source": [
    "### Hypothesis\n",
    "People should be more aware of scam calls during the winter holidays. Our hypothesis is that scam callers target people the most during the winter holidays because many individuals are saving up for or purchasing gifts for loved ones. This is an optimal time to market a scam to people in the form of a gift."
   ]
  },
  {
   "cell_type": "markdown",
   "metadata": {},
   "source": [
    "### Dataset(s)\n",
    "##### Dataset 1 - 2010_to_2015_dnc_complaints_by_month\n",
    "\n",
    "* link to dataset: https://www.ftc.gov/site-information/open-government/data-sets\n",
    "* 60 Observations\n",
    "* This dataset contains the number of total complants (combination of recorded messages and requested entities), recorded messages, and requested entities. Each data row is the month of that year, with each cell being the total number of the type of complaints in that given month and year. The dataset was created by going to each year from 2010-2015 and combining them into a single file through excel sheets.\n",
    "* For our research question, we chose to use: \n",
    "    1. Month\n",
    "    2. Total number of complaints\n",
    "* But other variables in this dataset include:\n",
    "    1. Requested Entity to Stop Calling (number of people who requested to be put on the \"Do Not Call\" list)\n",
    "    2. Recorded Message (number of calls that were recorded messages)\n",
    "* Problems with this dataset:\n",
    "    1. It is confined to the United States only.\n",
    "    2. Data for more recent years couldn't be included because it doesn't show up in their recent excel sheets.\n",
    "    3. It doesn't include more specific locations, such as states or cities.\n",
    "    \n",
    "##### Dataset 2\n",
    "*include information about other datasets we use*\n",
    "*include number of observations (rows), variables included, source*\n",
    "*see dataset 1 for example*"
   ]
  },
  {
   "cell_type": "markdown",
   "metadata": {},
   "source": [
    "### Setup"
   ]
  },
  {
   "cell_type": "code",
   "execution_count": 3,
   "metadata": {},
   "outputs": [
    {
     "name": "stderr",
     "output_type": "stream",
     "text": [
      "/opt/conda/lib/python3.6/site-packages/statsmodels/compat/pandas.py:56: FutureWarning: The pandas.core.datetools module is deprecated and will be removed in a future version. Please use the pandas.tseries module instead.\n",
      "  from pandas.core import datetools\n"
     ]
    }
   ],
   "source": [
    "%matplotlib inline\n",
    "\n",
    "import numpy as np\n",
    "import pandas as pd\n",
    "import matplotlib.pyplot as plt\n",
    "import seaborn as sns\n",
    "import statsmodels.api as sm\n",
    "import patsy\n",
    "\n",
    "# Configure libraries\n",
    "# The seaborn library makes plots look nicer\n",
    "sns.set()\n",
    "sns.set_context('talk')\n",
    "\n",
    "# Don't display too many rows/cols of DataFrames\n",
    "pd.options.display.max_rows = 7\n",
    "pd.options.display.max_columns = 8\n",
    "\n",
    "# Round decimals when displaying DataFrames\n",
    "pd.set_option('precision', 2)"
   ]
  },
  {
   "cell_type": "markdown",
   "metadata": {},
   "source": [
    "### Data Cleaning\n",
    "*describe data cleaning steps here*"
   ]
  },
  {
   "cell_type": "code",
   "execution_count": 6,
   "metadata": {},
   "outputs": [],
   "source": [
    "df_2018_dnc_state_complaints_5yr = pd.read_csv(\"csv_files/2018_DNC_State_Complaints_5yr.csv\")\n",
    "df_2018_dnc_state_complaints_calltype = pd.read_csv(\"csv_files/2018_DNC_State_Complaints_by_CallType.csv\")\n",
    "df_2018_dnc_state_complaints_topic = pd.read_csv(\"csv_files/2018_DNC_State_Complaints_by_Topic.csv\")\n",
    "df_2017_dnc_state_complaints_calltype = pd.read_csv(\"csv_files/2017_DNC_State_Complaints_by_CallType.csv\")\n",
    "df_2017_dnc_state_complaints_topic = pd.read_csv(\"csv_files/2017_DNC_State_Complaints_by_Topic.csv\")\n",
    "df_2010_to_2015_dnc_complaints_by_month = pd.read_csv(\"csv_files/2010_to_2015_dnc_complaints_by_month.csv\")"
   ]
  },
  {
   "cell_type": "markdown",
   "metadata": {},
   "source": [
    "### Data Analysis & Results"
   ]
  },
  {
   "cell_type": "code",
   "execution_count": 74,
   "metadata": {},
   "outputs": [
    {
     "name": "stdout",
     "output_type": "stream",
     "text": [
      "0     Oct-10\n",
      "1     Nov-10\n",
      "2     Dec-10\n",
      "       ...  \n",
      "57    Jul-15\n",
      "58    Aug-15\n",
      "59    Sep-15\n",
      "Name: Unnamed: 0, Length: 60, dtype: object\n"
     ]
    }
   ],
   "source": [
    "print(df_2010_to_2015_dnc_complaints_by_month['Unnamed: 0'])"
   ]
  },
  {
   "cell_type": "code",
   "execution_count": 75,
   "metadata": {},
   "outputs": [
    {
     "name": "stdout",
     "output_type": "stream",
     "text": [
      "Jan: 1367986\n",
      "Feb: 1397948\n",
      "Mar: 1540240\n",
      "Apr: 1464242\n",
      "May: 1409354\n",
      "Jun: 1419308\n",
      "Jul: 1474047\n",
      "Aug: 1549973\n",
      "Sep: 1525764\n",
      "Oct: 1247479\n",
      "Nov: 1165743\n",
      "Dec: 1119611\n"
     ]
    },
    {
     "data": {
      "image/png": "[encoded data removed]",
      "text/plain": [
       "<Figure size 432x288 with 1 Axes>"
      ]
     },
     "metadata": {},
     "output_type": "display_data"
    }
   ],
   "source": [
    "i = 0\n",
    "months = df_2010_to_2015_dnc_complaints_by_month['Unnamed: 0']\n",
    "month_arr = [['Jan', 0], ['Feb', 0], ['Mar', 0], ['Apr', 0], ['May', 0], ['Jun', 0], ['Jul', 0], ['Aug', 0], ['Sep', 0], ['Oct', 0], ['Nov', 0], ['Dec', 0]]\n",
    "performance = []\n",
    "for month in months:\n",
    "    for com_month in month_arr:\n",
    "        if(month[0:3] == com_month[0]):\n",
    "            str_in = df_2010_to_2015_dnc_complaints_by_month['Total Complaints'][i].replace(',', '')\n",
    "            com_month[1] += int(str_in)\n",
    "    i = i + 1\n",
    "i = 0\n",
    "for month in month_arr:\n",
    "    performance.insert(0,month[1])\n",
    "    print(str(month[0])+\": \"+str(month[1]))\n",
    "objects = ('Dec', 'Nov', 'Oct', 'Sep', 'Aug', 'Jul', 'Jun', 'May', 'Apr', 'Mar', 'Feb', 'Jan')\n",
    "y_pos = np.arange(len(objects))\n",
    "plt.barh(y_pos, performance, align='center', alpha=1)\n",
    "plt.yticks(y_pos, objects)\n",
    "plt.xlabel('Total Number of Complaints')\n",
    "plt.title('Total Complaints Per Month From Oct 2010 to Sep 2015')\n",
    "\n",
    "plt.show()"
   ]
  },
  {
   "cell_type": "markdown",
   "metadata": {},
   "source": [
    "*i believe we could use some kind of table like this for descriptive, not sure: https://i.imgur.com/xCWEFFw.png *\n",
    "\n",
    "Descriptive / Exploratory:\n",
    "The sample size of this data is large, but there is a small issue with the data collection. All the data is collected by people volunteering data - meaning they had to submit a complaint to the FTC in an attempt to get action taken against these unwanted calls. However, this means that drops in total complaints may not mean there actually were less unwanted calls, it may also mean that people were simply less willing to submit a complaint that that time.\n",
    "\n",
    "The size of our data spans many more observations than columns. We have alot of data about unwanted calls - organized by State, Type of Call, and Topic of Call. However, our variables are simple, we just use the number of said calls. In terms of missingness, there is the aformentioned data that is not reported by people. There also is, in the case of \"Topic of Call\" the chance that they reported an unwanted call, but left out the topic. The same applies to \"Call of Type\", some people did not report whether the caller was a robot or a human. \n",
    "\n",
    "*exploratory: look for missing values/outlier values,calculate numerical summaries, generate plots and tables to explore realtionships, if necessary transform variables*\n",
    "\n",
    "*descriptive: size, missingness, shape, central tendency, variability, i believe we could use some kind of table like this for descriptive, not sure: https://i.imgur.com/xCWEFFw.png *\n"
   ]
  },
  {
   "cell_type": "code",
   "execution_count": 95,
   "metadata": {},
   "outputs": [
    {
     "name": "stdout",
     "output_type": "stream",
     "text": [
      "                            OLS Regression Results                            \n",
      "==============================================================================\n",
      "Dep. Variable:                  Month   R-squared:                       0.288\n",
      "Model:                            OLS   Adj. R-squared:                  0.217\n",
      "Method:                 Least Squares   F-statistic:                     4.051\n",
      "Date:                Wed, 05 Jun 2019   Prob (F-statistic):             0.0718\n",
      "Time:                        22:59:03   Log-Likelihood:                -29.854\n",
      "No. Observations:                  12   AIC:                             63.71\n",
      "Df Residuals:                      10   BIC:                             64.68\n",
      "Df Model:                           1                                         \n",
      "Covariance Type:            nonrobust                                         \n",
      "=================================================================================\n",
      "                    coef    std err          t      P>|t|      [0.025      0.975]\n",
      "---------------------------------------------------------------------------------\n",
      "Intercept        25.3322      9.401      2.695      0.023       4.385      46.280\n",
      "UnwantedCalls   -18.8322      9.356     -2.013      0.072     -39.679       2.015\n",
      "==============================================================================\n",
      "Omnibus:                        0.780   Durbin-Watson:                   0.269\n",
      "Prob(Omnibus):                  0.677   Jarque-Bera (JB):                0.620\n",
      "Skew:                          -0.472   Prob(JB):                        0.733\n",
      "Kurtosis:                       2.410   Cond. No.                         20.4\n",
      "==============================================================================\n",
      "\n",
      "Warnings:\n",
      "[1] Standard Errors assume that the covariance matrix of the errors is correctly specified.\n"
     ]
    },
    {
     "name": "stderr",
     "output_type": "stream",
     "text": [
      "C:\\Users\\Peter\\Anaconda3\\lib\\site-packages\\scipy\\stats\\stats.py:1394: UserWarning: kurtosistest only valid for n>=20 ... continuing anyway, n=12\n",
      "  \"anyway, n=%i\" % int(n))\n"
     ]
    }
   ],
   "source": [
    "df_by_month = pd.DataFrame([x[1:] for x in month_arr], index=[x[0] for x in month_arr], columns=['UnwantedCalls'])\n",
    "df_by_month['Month'] = range(1,13)\n",
    "avg = df_by_month['UnwantedCalls'].mean()\n",
    "#avg'd out the number of complaints to avoid warning\n",
    "df_by_month['UnwantedCalls'] = df_by_month['UnwantedCalls'].div(avg)\n",
    "\n",
    "#print(avg)\n",
    "#print(df_by_month)\n",
    "\n",
    "outcome, predictors = patsy.dmatrices('Month ~ UnwantedCalls', df_by_month)\n",
    "mod = sm.OLS(outcome, predictors)\n",
    "res = mod.fit()\n",
    "print(res.summary())\n"
   ]
  },
  {
   "cell_type": "markdown",
   "metadata": {},
   "source": [
    "### Ethics & Privacy\n",
    "The most concerning ethical consideration for our study is that our data analysis could potentially make it easier for scammers to find victims. Since we analyze our data to find the best times for scammers to strike, this may give scammers hints for when they should operate. We also acknowledge the fact that all the data we use is self-reported. This means that our analysis may not necessarily be representative of a particular group since some may choose to not report calls. Our data also has some bias in the sense that it is aggregated by state. The data is not nearly as narrow if compared to data by cities. We are unable to take into account whether population density could affect the number of reported calls. For instance, urban areas might have a higher number of reported calls over rural areas.\n",
    "\n",
    "In terms of privacy, data from our sources is anonymized. In regards to the Safe Harbor method, none of the data we collected had any data which would compromise privacy in the first place. All the data used is categorized either by state or by calltype and does not include any personal data such as: Names, geographic subdivisions smaller than a state, birth dates, etc. In fact, all the data is already associated to a state and not to any particular individual, and thus contains no information which could be used to identify what entry or information any one person gave to the FTC which we are using here."
   ]
  },
  {
   "cell_type": "markdown",
   "metadata": {},
   "source": [
    "### Conclusion & Discussion\n",
    "*fill in discussion information here*\n"
   ]
  }
 ],
 "metadata": {
  "kernelspec": {
   "display_name": "Python 3",
   "language": "python",
   "name": "python3"
  },
  "language_info": {
   "codemirror_mode": {
    "name": "ipython",
    "version": 3
   },
   "file_extension": ".py",
   "mimetype": "text/x-python",
   "name": "python",
   "nbconvert_exporter": "python",
   "pygments_lexer": "ipython3",
   "version": "3.6.7"
  }
 },
 "nbformat": 4,
 "nbformat_minor": 2
}
