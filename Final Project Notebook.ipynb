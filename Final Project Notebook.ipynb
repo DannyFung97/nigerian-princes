{
 "cells": [
  {
   "cell_type": "markdown",
   "metadata": {},
   "source": [
    "## Intrusive Phone Calls"
   ]
  },
  {
   "cell_type": "markdown",
   "metadata": {},
   "source": [
    "### Overview\n",
    "In a world with modern technology, scammers have a variety of tools with which they can trick individuals who don't know any better into giving up their money or personal information. Phone calls is one medium in particular that scammers use often. Scammers can be anywhere around the world calling people's home phones or personal phones at any time of the day and will use whatever tactics they can to turn a profit. Thus, everyone should be aware of these scammers and have an idea of how they can best protect themselves.\n",
    "\n",
    "Using data on the number of Do Not Call complaints (organized by state) made to the FTC over the past 5 years, we look to see if there is an optimal time to warn people about instrusive phone calls."
   ]
  },
  {
   "cell_type": "markdown",
   "metadata": {},
   "source": [
    "### Names\n",
    "* Felix Chu ()\n",
    "* Danny Fung (A13700439)\n",
    "* Peter Huang ()\n",
    "* Dan Tran (A13684358)\n",
    "* Leon Wu (A11988491) - **Overview, Background & Prior Work, Ethics & Privacy**"
   ]
  },
  {
   "cell_type": "markdown",
   "metadata": {},
   "source": [
    "### Research Question\n",
    "When should people be more aware of scam calls, depending on the time of the year and where they live, in order for them to not get scammed?\n",
    "\n",
    "At what time of the year would it be most effective to inform people about the dangers of scam calls?"
   ]
  },
  {
   "cell_type": "markdown",
   "metadata": {},
   "source": [
    "### Background & Prior Work\n",
    "#### Background\n",
    "* Scam callers can spoof their caller ID to make it look like they are from your area.\n",
    "* Scam callers can target victims based on certain demographics such as race.\n",
    "* Scam callers sometimes do not take people off their call lists when requested.\n",
    "\n",
    "#### Prior Work\n",
    "We found two projects similar to ours: **The Large-Scale Analysis of Technical Support Scams** and **The Correlates of Susceptibility to Scams in Older Adults Without Dementia**.\n",
    "\n",
    "**The Large-Scale Analysis of Technical Support Scams** study learned that scammers abuse specific browser APIs to make it hard for users to navigate away from a technical support scam page, identified the social engineering techniques used, the remote administration tools abused, and the amount of money that scammers are charging. Technical support scammers were also based in call centers in English-speaking countries with low wages.\n",
    "\n",
    "**The Correlates of Susceptibility to Scams in Older Adults Without Dementia** study found that the oldest old, persons with lower levels of cognitive function, lower psychological well being, and poorer health and financial literacy appeared to be the most susceptible to scams, independent of the level of education and income. There was no difference in susceptibility between males and females. This study identifies a number of factors that may put older adults at high risk of falling prey to scams, and suggests at least two modifiable factors—health and financial literacy and well-being—as potential targets for interventions to prevent victimization of older persons. The most robust psychosocial correlate of susceptibility to scams was psychological well-being. This indicates that positive functioning and outlook on one's life is associated with being less susceptible to being taken advantage of by a scammer.\n",
    "\n",
    "#### References\n",
    "1. https://arxiv.org/pdf/1607.06891.pdf\n",
    "2. https://www.ncbi.nlm.nih.gov/pmc/articles/PMC3916958/pdf/nihms509695.pdf"
   ]
  },
  {
   "cell_type": "markdown",
   "metadata": {},
   "source": [
    "### Hypothesis\n",
    "People should be more aware of scam calls during the winter holidays. Our hypothesis is that scam callers target people the most during the winter holidays because many individuals are saving up for or purchasing gifts for loved ones. This is an optimal time to market a scam to people in the form of a gift."
   ]
  },
  {
   "cell_type": "markdown",
   "metadata": {},
   "source": [
    "### Dataset(s)\n",
    "##### Dataset 1 - 2010_to_2015_dnc_complaints_by_month\n",
    "\n",
    "* link to dataset: https://www.ftc.gov/site-information/open-government/data-sets\n",
    "* This dataset contains the number of total complants (combination of recorded messages and requested entities), recorded messages, and requested entities. Each data row is the month of that year, with each cell being the total number of the type of complaints in that given month and year. The dataset was created by going to each year from 2010-2015 and combining them into a single file through excel sheets.\n",
    "* For our research question, we chose to use: \n",
    "    1. Month\n",
    "    2. Total number of complaints\n",
    "* Problems with this dataset:\n",
    "    1. It is confined to the United States only.\n",
    "    2. Data for more recent years couldn't be included because it doesn't show up in their recent excel sheets.\n",
    "    3. It doesn't include more specific locations, such as states or cities. "
   ]
  },
  {
   "cell_type": "markdown",
   "metadata": {},
   "source": [
    "### Setup"
   ]
  },
  {
   "cell_type": "code",
   "execution_count": 4,
   "metadata": {},
   "outputs": [],
   "source": [
    "%matplotlib inline\n",
    "\n",
    "import numpy as np\n",
    "import pandas as pd\n",
    "import matplotlib.pyplot as plt\n",
    "import seaborn as sns\n",
    "\n",
    "# Configure libraries\n",
    "# The seaborn library makes plots look nicer\n",
    "sns.set()\n",
    "sns.set_context('talk')\n",
    "\n",
    "# Don't display too many rows/cols of DataFrames\n",
    "pd.options.display.max_rows = 7\n",
    "pd.options.display.max_columns = 8\n",
    "\n",
    "# Round decimals when displaying DataFrames\n",
    "pd.set_option('precision', 2)"
   ]
  },
  {
   "cell_type": "markdown",
   "metadata": {},
   "source": [
    "### Data Cleaning\n",
    "*describe data cleaning steps here*"
   ]
  },
  {
   "cell_type": "code",
   "execution_count": 3,
   "metadata": {},
   "outputs": [],
   "source": [
    "df_2018_dnc_state_complaints_5yr = pd.read_csv(\"csv_files/2018_DNC_State_Complaints_5yr.csv\")\n",
    "df_2018_dnc_state_complaints_calltype = pd.read_csv(\"csv_files/2018_DNC_State_Complaints_by_CallType.csv\")\n",
    "df_2018_dnc_state_complaints_topic = pd.read_csv(\"csv_files/2018_DNC_State_Complaints_by_Topic.csv\")\n",
    "df_2017_dnc_state_complaints_calltype = pd.read_csv(\"csv_files/2017_DNC_State_Complaints_by_CallType.csv\")\n",
    "df_2017_dnc_state_complaints_topic = pd.read_csv(\"csv_files/2017_DNC_State_Complaints_by_Topic.csv\")\n",
    "df_2010_to_2015_dnc_complaints_by_month = pd.read_csv(\"csv_files/2010_to_2015_dnc_complaints_by_month.csv\")\n"
   ]
  },
  {
   "cell_type": "markdown",
   "metadata": {},
   "source": [
    "### Data Analysis & Results\n",
    "*include cells that describe the steps in data analsis*"
   ]
  },
  {
   "cell_type": "code",
   "execution_count": 3,
   "metadata": {},
   "outputs": [],
   "source": [
    "# CODE HERE"
   ]
  },
  {
   "cell_type": "markdown",
   "metadata": {},
   "source": [
    "### Ethics & Privacy\n",
    "The most concerning ethical consideration for our study is that our data analysis could potentially make it easier for scammers to find victims. Since we analyze our data to find the best times for scammers to strike, this may give scammers hints for when they should operate. We also acknowledge the fact that all the data we use is self-reported. This means that our analysis may not necessarily be representative of a particular group since some may choose to not report calls. Our data also has some bias in the sense that it is aggregated by state. The data is not nearly as narrow if compared to data by cities. We are unable to take into account whether population density could affect the number of reported calls. For instance, urban areas might have a higher number of reported calls over rural areas.\n",
    "\n",
    "In terms of privacy, data from our sources is anonymized. **TODO: fill in how this data is anonymized (check for sex, age, etc)**"
   ]
  },
  {
   "cell_type": "markdown",
   "metadata": {},
   "source": [
    "### Conclusion & Discussion\n",
    "*fill in discussion information here*"
   ]
  },
  {
   "cell_type": "code",
   "execution_count": null,
   "metadata": {},
   "outputs": [],
   "source": []
  },
  {
   "cell_type": "code",
   "execution_count": null,
   "metadata": {},
   "outputs": [],
   "source": []
  }
 ],
 "metadata": {
  "kernelspec": {
   "display_name": "Python 3",
   "language": "python",
   "name": "python3"
  },
  "language_info": {
   "codemirror_mode": {
    "name": "ipython",
    "version": 3
   },
   "file_extension": ".py",
   "mimetype": "text/x-python",
   "name": "python",
   "nbconvert_exporter": "python",
   "pygments_lexer": "ipython3",
   "version": "3.6.7"
  }
 },
 "nbformat": 4,
 "nbformat_minor": 2
}
